{
 "cells": [
  {
   "cell_type": "code",
   "execution_count": 2,
   "id": "318ebfed",
   "metadata": {},
   "outputs": [],
   "source": [
    "import numpy as np\n",
    "import pandas as pd\n",
    "import scipy.stats as stats"
   ]
  },
  {
   "cell_type": "code",
   "execution_count": 6,
   "id": "1fc93e81",
   "metadata": {},
   "outputs": [
    {
     "name": "stdout",
     "output_type": "stream",
     "text": [
      "z_value = 3.0\n",
      "p_value = 0.002699796063260207\n",
      "rejected Null hypothesis\n"
     ]
    }
   ],
   "source": [
    "def hypothesis_test(hypthesis_val,simple_mean,std,num_trials ,tail):\n",
    "    z_value = (simple_mean - hypthesis_val)/(std/np.sqrt(num_trials))\n",
    "    if tail == \"right\":\n",
    "        p_value = 1 - stats.norm.cdf(z_value)\n",
    "    elif tail == 'left':\n",
    "        p_value = stats.norm.cdf(z_value)\n",
    "    elif tail == \"two_tails\":\n",
    "        p_value = 2 *(1 - stats.norm.cdf(z_value))\n",
    "    else:\n",
    "        raise ValueError(\"tail must be right or left\")\n",
    "    return z_value , p_value\n",
    "\n",
    "\n",
    "pop_mean = 175\n",
    "s_mean = 178\n",
    "std = 10\n",
    "simple_size = 100\n",
    "tail = \"two_tails\"\n",
    "alpha = 0.05\n",
    "z,p = hypothesis_test(pop_mean,s_mean,std,simple_size,tail)\n",
    "print(f\"z_value = {z}\")\n",
    "print(f\"p_value = {p}\")\n",
    "  \n",
    "        \n",
    "    \n",
    "if p<alpha:\n",
    "    print(f\"rejected Null hypothesis\")\n",
    "else:\n",
    "    print(\"fail to reject to null hypothesis\")"
   ]
  }
 ],
 "metadata": {
  "kernelspec": {
   "display_name": "Python 3",
   "language": "python",
   "name": "python3"
  },
  "language_info": {
   "codemirror_mode": {
    "name": "ipython",
    "version": 3
   },
   "file_extension": ".py",
   "mimetype": "text/x-python",
   "name": "python",
   "nbconvert_exporter": "python",
   "pygments_lexer": "ipython3",
   "version": "3.11.9"
  }
 },
 "nbformat": 4,
 "nbformat_minor": 5
}
