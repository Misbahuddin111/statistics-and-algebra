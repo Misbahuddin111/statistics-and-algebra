{
 "cells": [
  {
   "cell_type": "code",
   "execution_count": 2,
   "id": "784fea8b",
   "metadata": {},
   "outputs": [],
   "source": [
    "import pandas as pd \n",
    "import numpy as np\n",
    "import scipy.stats as stats "
   ]
  },
  {
   "cell_type": "code",
   "execution_count": 6,
   "id": "6756342f",
   "metadata": {},
   "outputs": [
    {
     "name": "stdout",
     "output_type": "stream",
     "text": [
      "chi square stats : 2.5\n",
      "p_value =  0.7764950711233227\n",
      "degree of freedom =  5\n",
      "failed to rejected null hypothesis\n"
     ]
    }
   ],
   "source": [
    "# chi square test\n",
    "observed = np.array([90, 110, 95, 100, 105, 100])\n",
    "expected = np.array([100, 100, 100, 100, 100, 100])\n",
    "chi_square_stats , p_value = stats.chisquare(observed,expected)\n",
    "df = len(observed) -1\n",
    "alpha = 0.05\n",
    "print(\"chi square stats :\",chi_square_stats)\n",
    "print(\"p_value = \", p_value)\n",
    "print(\"degree of freedom = \", df)\n",
    "if p_value < alpha :\n",
    "    print(\"Null hypothesis rejected\")\n",
    "else:\n",
    "    print(\"failed to rejected null hypothesis\")\n"
   ]
  },
  {
   "cell_type": "code",
   "execution_count": null,
   "id": "1ce7df50",
   "metadata": {},
   "outputs": [
    {
     "name": "stdout",
     "output_type": "stream",
     "text": [
      "Chi-Square Statistic: 2.500\n",
      "P-Value: 0.776\n",
      "Degrees of Freedom: 5\n",
      "Significance Level: 0.05\n",
      "Fail to reject the null hypothesis: The die is fair.\n"
     ]
    }
   ],
   "source": [
    "import numpy as np\n",
    "from scipy.stats import chi2_contingency, chisquare\n",
    "\n",
    "# Observed frequencies\n",
    "observed = np.array([90, 110, 95, 100, 105, 100])\n",
    "\n",
    "# Expected frequencies (fair die: 600 rolls / 6 faces = 100 per face)\n",
    "expected = np.array([100, 100, 100, 100, 100, 100])\n",
    "\n",
    "# Perform Chi-Square Goodness of Fit Test\n",
    "chi_square_stat, p_value = chisquare(observed, expected)\n",
    "\n",
    "# Degrees of freedom\n",
    "df = len(observed) - 1\n",
    "\n",
    "# Significance level\n",
    "alpha = 0.05\n",
    "\n",
    "# Print results\n",
    "print(f\"Chi-Square Statistic: {chi_square_stat:.3f}\")\n",
    "print(f\"P-Value: {p_value:.3f}\")\n",
    "print(f\"Degrees of Freedom: {df}\")\n",
    "print(f\"Significance Level: {alpha}\")\n",
    "\n",
    "# Decision\n",
    "if p_value < alpha:\n",
    "    print(\"Reject the null hypothesis: The die is not fair.\")\n",
    "else:\n",
    "    print(\"Fail to reject the null hypothesis: The die is fair.\")"
   ]
  }
 ],
 "metadata": {
  "kernelspec": {
   "display_name": "Python 3",
   "language": "python",
   "name": "python3"
  },
  "language_info": {
   "codemirror_mode": {
    "name": "ipython",
    "version": 3
   },
   "file_extension": ".py",
   "mimetype": "text/x-python",
   "name": "python",
   "nbconvert_exporter": "python",
   "pygments_lexer": "ipython3",
   "version": "3.11.9"
  }
 },
 "nbformat": 4,
 "nbformat_minor": 5
}
