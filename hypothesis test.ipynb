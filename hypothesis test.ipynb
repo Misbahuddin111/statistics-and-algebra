{
 "cells": [
  {
   "cell_type": "code",
   "execution_count": null,
   "id": "318ebfed",
   "metadata": {},
   "outputs": [],
   "source": [
    "import numpy as np\n",
    "import pandas as pd\n",
    "import scipy.stats as stats"
   ]
  },
  {
   "cell_type": "code",
   "execution_count": null,
   "id": "1fc93e81",
   "metadata": {},
   "outputs": [
    {
     "ename": "NameError",
     "evalue": "name 'np' is not defined",
     "output_type": "error",
     "traceback": [
      "\u001b[31m---------------------------------------------------------------------------\u001b[39m",
      "\u001b[31mNameError\u001b[39m                                 Traceback (most recent call last)",
      "\u001b[36mCell\u001b[39m\u001b[36m \u001b[39m\u001b[32mIn[1]\u001b[39m\u001b[32m, line 20\u001b[39m\n\u001b[32m     18\u001b[39m tail = \u001b[33m\"\u001b[39m\u001b[33mright\u001b[39m\u001b[33m\"\u001b[39m\n\u001b[32m     19\u001b[39m alpha = \u001b[32m0.05\u001b[39m\n\u001b[32m---> \u001b[39m\u001b[32m20\u001b[39m z,p = \u001b[43mhypothesis_test\u001b[49m\u001b[43m(\u001b[49m\u001b[43mpop_mean\u001b[49m\u001b[43m,\u001b[49m\u001b[43ms_mean\u001b[49m\u001b[43m,\u001b[49m\u001b[43mstd\u001b[49m\u001b[43m,\u001b[49m\u001b[43msimple_size\u001b[49m\u001b[43m,\u001b[49m\u001b[43mtail\u001b[49m\u001b[43m)\u001b[49m\n\u001b[32m     21\u001b[39m \u001b[38;5;28mprint\u001b[39m(\u001b[33mf\u001b[39m\u001b[33m\"\u001b[39m\u001b[33mz_value=\u001b[39m\u001b[38;5;132;01m{\u001b[39;00mz\u001b[38;5;132;01m}\u001b[39;00m\u001b[33m\"\u001b[39m)\n\u001b[32m     22\u001b[39m \u001b[38;5;28mprint\u001b[39m(\u001b[33mf\u001b[39m\u001b[33m\"\u001b[39m\u001b[33mp_value\u001b[39m\u001b[38;5;132;01m{\u001b[39;00mp\u001b[38;5;132;01m}\u001b[39;00m\u001b[33m\"\u001b[39m)\n",
      "\u001b[36mCell\u001b[39m\u001b[36m \u001b[39m\u001b[32mIn[1]\u001b[39m\u001b[32m, line 2\u001b[39m, in \u001b[36mhypothesis_test\u001b[39m\u001b[34m(hypthesis_val, simple_mean, std, num_trials, tail)\u001b[39m\n\u001b[32m      1\u001b[39m \u001b[38;5;28;01mdef\u001b[39;00m\u001b[38;5;250m \u001b[39m\u001b[34mhypothesis_test\u001b[39m(hypthesis_val,simple_mean,std,num_trials ,tail):\n\u001b[32m----> \u001b[39m\u001b[32m2\u001b[39m     z_value = (simple_mean - hypthesis_val)/(std/\u001b[43mnp\u001b[49m.sqrt(num_trials))\n\u001b[32m      3\u001b[39m     \u001b[38;5;28;01mif\u001b[39;00m tail == \u001b[33m\"\u001b[39m\u001b[33mright\u001b[39m\u001b[33m\"\u001b[39m:\n\u001b[32m      4\u001b[39m         p_value = \u001b[32m1\u001b[39m - stats.norm.cdf(z_value)\n",
      "\u001b[31mNameError\u001b[39m: name 'np' is not defined"
     ]
    }
   ],
   "source": [
    "def hypothesis_test(hypthesis_val,simple_mean,std,num_trials ,tail):\n",
    "    z_value = (simple_mean - hypthesis_val)/(std/np.sqrt(num_trials))\n",
    "    if tail == \"right\":\n",
    "        p_value = 1 - stats.norm.cdf(z_value)\n",
    "    elif tail == 'left':\n",
    "        p_value = stats.norm.cdf(z_value)\n",
    "    elif tail == \"two tails\":\n",
    "        p_value = 2 *(stats.norm.cdf(z_value))\n",
    "    else:\n",
    "        raise ValueError(\"tail must be right or left\")\n",
    "    return z_value , p_value\n",
    "\n",
    "\n",
    "pop_mean = 5\n",
    "s_mean = 5.5\n",
    "std = 1.2\n",
    "simple_size = 36\n",
    "tail = \"right\"\n",
    "alpha = 0.05\n",
    "z,p = hypothesis_test(pop_mean,s_mean,std,simple_size,tail)\n",
    "print(f\"z_value={z}\")\n",
    "print(f\"p_value{p}\")\n",
    "  \n",
    "        \n",
    "    \n",
    "if p<alpha:\n",
    "    print(f\"rejected Null hypothesis\")\n",
    "else:\n",
    "    print(\"fail to reject to null hypothesis\")"
   ]
  }
 ],
 "metadata": {
  "kernelspec": {
   "display_name": "Python 3",
   "language": "python",
   "name": "python3"
  },
  "language_info": {
   "codemirror_mode": {
    "name": "ipython",
    "version": 3
   },
   "file_extension": ".py",
   "mimetype": "text/x-python",
   "name": "python",
   "nbconvert_exporter": "python",
   "pygments_lexer": "ipython3",
   "version": "3.11.9"
  }
 },
 "nbformat": 4,
 "nbformat_minor": 5
}
