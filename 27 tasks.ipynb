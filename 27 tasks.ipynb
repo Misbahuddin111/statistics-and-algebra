{
 "cells": [
  {
   "cell_type": "code",
   "execution_count": 1,
   "id": "67c3ffc3",
   "metadata": {},
   "outputs": [],
   "source": [
    "import numpy as np\n",
    "import pandas as pd\n",
    "import seaborn as sns\n",
    "import matplotlib.pyplot as plt"
   ]
  },
  {
   "cell_type": "markdown",
   "id": "4e26bf81",
   "metadata": {},
   "source": [
    "A company claims that their email marketing campaign has a 15% click-through rate. If you randomly select 100 people to receive the email, what is the probability that exactly 20 will click through to the website?"
   ]
  },
  {
   "cell_type": "code",
   "execution_count": 6,
   "id": "ae2a00cf",
   "metadata": {},
   "outputs": [
    {
     "name": "stdout",
     "output_type": "stream",
     "text": [
      "the proobaaility is 4.022449066141772% on 20 cliks\n"
     ]
    }
   ],
   "source": [
    "import numpy as np\n",
    "from scipy.stats import binom\n",
    "\n",
    "# Parameters\n",
    "n = 100  # Number of trials\n",
    "k = 20   # Number of successes\n",
    "p = 0.15 # Probability of success\n",
    "\n",
    "# Calculate binomial probability using binom.pmf\n",
    "probability = binom.pmf(k, n, p)\n",
    "\n",
    "# Print the result\n",
    "print(f\"the proobaaility is {probability*100}% on 20 cliks\")"
   ]
  },
  {
   "cell_type": "markdown",
   "id": "c751d7ae",
   "metadata": {},
   "source": [
    "A researcher is investigating whether a new medication improves patient outcomes. The medication has a success rate of 75%. If the researcher enrolls 50 patients in the study, what is the probability that fewer than 35 will have a positive outcome?"
   ]
  },
  {
   "cell_type": "code",
   "execution_count": 9,
   "id": "c1a84d2d",
   "metadata": {},
   "outputs": [
    {
     "name": "stdout",
     "output_type": "stream",
     "text": [
      "the probability is 8.883558401463604% on 35 clicks\n"
     ]
    }
   ],
   "source": [
    "p = 0.75\n",
    "n= 50\n",
    "k = 35\n",
    "\n",
    "probability = binom.pmf(k, n, p)\n",
    "probability = probability * 100\n",
    "print(f\"the probability is { probability}% on 35 clicks\")"
   ]
  }
 ],
 "metadata": {
  "kernelspec": {
   "display_name": "Python 3",
   "language": "python",
   "name": "python3"
  },
  "language_info": {
   "codemirror_mode": {
    "name": "ipython",
    "version": 3
   },
   "file_extension": ".py",
   "mimetype": "text/x-python",
   "name": "python",
   "nbconvert_exporter": "python",
   "pygments_lexer": "ipython3",
   "version": "3.11.9"
  }
 },
 "nbformat": 4,
 "nbformat_minor": 5
}
