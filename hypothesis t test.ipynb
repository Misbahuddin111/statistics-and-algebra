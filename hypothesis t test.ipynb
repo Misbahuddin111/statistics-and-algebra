{
 "cells": [
  {
   "cell_type": "code",
   "execution_count": 2,
   "id": "81316aa7",
   "metadata": {},
   "outputs": [],
   "source": [
    "import numpy as np\n",
    "import scipy.stats as stats\n",
    "import pandas as pd"
   ]
  },
  {
   "cell_type": "code",
   "execution_count": 7,
   "id": "4ab453d9",
   "metadata": {},
   "outputs": [
    {
     "name": "stdout",
     "output_type": "stream",
     "text": [
      "t_value = -2.133333333333335\n",
      "P_value = 0.04982224906702138\n",
      "fail to reject null hypothesis\n"
     ]
    }
   ],
   "source": [
    "def t_test(pop_mean, sample_mean, sample_std,sample_size):\n",
    "    t_value = (sample_mean - pop_mean) / (sample_std  / np.sqrt(sample_size))\n",
    "    df = (sample_size) - 1\n",
    "    \n",
    "    if t_value > 0 :\n",
    "        p_value = (1 - stats.t.cdf(t_value, df))* 2\n",
    "    else:\n",
    "        p_value = (stats.t.cdf(t_value, df))* 2\n",
    "        \n",
    "        return t_value, p_value\n",
    "    \n",
    "# Sample data\n",
    "n = 16\n",
    "sample_mean = 19.2\n",
    "mu = 20\n",
    "sample_std = 1.5\n",
    "alpha = 0.05\n",
    "t_value , p_value=t_test(mu, sample_mean, sample_std, n)\n",
    "print(f\"t_value = {t_value}\")\n",
    "print(f'P_value = {p_value}')\n",
    "if alpha > p_value:\n",
    "    print(\"fail to reject null hypothesis\")\n",
    "else:\n",
    "    print(\"reject null hypothesis\")"
   ]
  }
 ],
 "metadata": {
  "kernelspec": {
   "display_name": "Python 3",
   "language": "python",
   "name": "python3"
  },
  "language_info": {
   "codemirror_mode": {
    "name": "ipython",
    "version": 3
   },
   "file_extension": ".py",
   "mimetype": "text/x-python",
   "name": "python",
   "nbconvert_exporter": "python",
   "pygments_lexer": "ipython3",
   "version": "3.11.9"
  }
 },
 "nbformat": 4,
 "nbformat_minor": 5
}
