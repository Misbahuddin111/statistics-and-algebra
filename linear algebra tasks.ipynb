{
 "cells": [
  {
   "cell_type": "code",
   "execution_count": 2,
   "id": "38abdaf5",
   "metadata": {},
   "outputs": [],
   "source": [
    "import numpy as np\n",
    "import pandas as pd"
   ]
  },
  {
   "cell_type": "markdown",
   "id": "659ee2e5",
   "metadata": {},
   "source": [
    "Q1. Given the vectors A = [1, 2, 3] and B = [4, 5, 6], calculate the element-wise product of the two vectors"
   ]
  },
  {
   "cell_type": "code",
   "execution_count": 6,
   "id": "f568d47f",
   "metadata": {},
   "outputs": [
    {
     "name": "stdout",
     "output_type": "stream",
     "text": [
      "[ 4 10 18]\n"
     ]
    }
   ],
   "source": [
    "A = np.array([1,2,3])\n",
    "B = np.array([4,5,6])\n",
    "product = A*B\n",
    "print(product)"
   ]
  },
  {
   "cell_type": "markdown",
   "id": "e6b5a106",
   "metadata": {},
   "source": [
    "Q2. Find the magnitude of the vector C = [2, -3, 1]"
   ]
  },
  {
   "cell_type": "code",
   "execution_count": 7,
   "id": "d620a5f5",
   "metadata": {},
   "outputs": [
    {
     "name": "stdout",
     "output_type": "stream",
     "text": [
      "3.7416573867739413\n"
     ]
    }
   ],
   "source": [
    "c = np.array([2,3,-1])\n",
    "magnitude = np.linalg.norm(c)\n",
    "print(magnitude)"
   ]
  },
  {
   "cell_type": "markdown",
   "id": "152a5eed",
   "metadata": {},
   "source": [
    "Q3. Given the vectors D = [1, 2, 3] and E = [4, 5, 6], calculate the cosine of the angle between them"
   ]
  },
  {
   "cell_type": "code",
   "execution_count": 10,
   "id": "c531a138",
   "metadata": {},
   "outputs": [
    {
     "name": "stdout",
     "output_type": "stream",
     "text": [
      "0.9746318461970762\n"
     ]
    }
   ],
   "source": [
    "D = np.array([1,2,3])\n",
    "E = np.array([4,5,6])\n",
    "dot_prod = np.dot(D,E)\n",
    "norm_D = np.linalg.norm(D)\n",
    "norm_E = np.linalg.norm(E)\n",
    "cos_angle = dot_prod / (norm_D * norm_E)\n",
    "print(cos_angle)"
   ]
  },
  {
   "cell_type": "markdown",
   "id": "ed050b6b",
   "metadata": {},
   "source": [
    "Q4: Cross product of vectors F and G"
   ]
  },
  {
   "cell_type": "code",
   "execution_count": 11,
   "id": "c15823cb",
   "metadata": {},
   "outputs": [
    {
     "name": "stdout",
     "output_type": "stream",
     "text": [
      "Q4. Cross product of F and G: [-3  6 -3]\n"
     ]
    }
   ],
   "source": [
    "F = np.array([1, 2, 3])\n",
    "G = np.array([4, 5, 6])\n",
    "cross_product = np.cross(F, G)\n",
    "print(\"Q4. Cross product of F and G:\", cross_product)"
   ]
  }
 ],
 "metadata": {
  "kernelspec": {
   "display_name": "Python 3",
   "language": "python",
   "name": "python3"
  },
  "language_info": {
   "codemirror_mode": {
    "name": "ipython",
    "version": 3
   },
   "file_extension": ".py",
   "mimetype": "text/x-python",
   "name": "python",
   "nbconvert_exporter": "python",
   "pygments_lexer": "ipython3",
   "version": "3.11.9"
  }
 },
 "nbformat": 4,
 "nbformat_minor": 5
}
